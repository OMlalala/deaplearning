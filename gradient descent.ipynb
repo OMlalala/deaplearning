{
 "cells": [
  {
   "cell_type": "code",
   "execution_count": 1,
   "metadata": {
    "collapsed": true
   },
   "outputs": [],
   "source": [
    "%matplotlib inline"
   ]
  },
  {
   "cell_type": "code",
   "execution_count": 2,
   "metadata": {
    "collapsed": true
   },
   "outputs": [],
   "source": [
    "import numpy as np\n",
    "from matplotlib import pyplot as plt\n",
    "import random"
   ]
  },
  {
   "cell_type": "code",
   "execution_count": 3,
   "metadata": {},
   "outputs": [
    {
     "name": "stdout",
     "output_type": "stream",
     "text": [
      "w=2, b=17\n"
     ]
    }
   ],
   "source": [
    "size = 100\n",
    "w = random.randint(1,10)\n",
    "b = random.randint(1,100)\n",
    "\n",
    "x = np.arange(size)\n",
    "y = w * x + b + np.random.normal(scale=10, size=size)\n",
    "print(\"w=%d, b=%d\"%(w,b))"
   ]
  },
  {
   "cell_type": "code",
   "execution_count": 7,
   "metadata": {},
   "outputs": [
    {
     "data": {
      "text/plain": [
       "array([ 0,  1,  2,  3,  4,  5,  6,  7,  8,  9, 10, 11, 12, 13, 14, 15, 16,\n",
       "       17, 18, 19, 20, 21, 22, 23, 24, 25, 26, 27, 28, 29, 30, 31, 32, 33,\n",
       "       34, 35, 36, 37, 38, 39, 40, 41, 42, 43, 44, 45, 46, 47, 48, 49, 50,\n",
       "       51, 52, 53, 54, 55, 56, 57, 58, 59, 60, 61, 62, 63, 64, 65, 66, 67,\n",
       "       68, 69, 70, 71, 72, 73, 74, 75, 76, 77, 78, 79, 80, 81, 82, 83, 84,\n",
       "       85, 86, 87, 88, 89, 90, 91, 92, 93, 94, 95, 96, 97, 98, 99])"
      ]
     },
     "execution_count": 7,
     "metadata": {},
     "output_type": "execute_result"
    }
   ],
   "source": [
    "x"
   ]
  },
  {
   "cell_type": "code",
   "execution_count": 4,
   "metadata": {},
   "outputs": [
    {
     "data": {
      "text/plain": [
       "[<matplotlib.lines.Line2D at 0x1113a5f60>]"
      ]
     },
     "execution_count": 4,
     "metadata": {},
     "output_type": "execute_result"
    },
    {
     "data": {
      "image/png": "[encoded data removed]",
      "text/plain": [
       "<matplotlib.figure.Figure at 0x10ed72128>"
      ]
     },
     "metadata": {},
     "output_type": "display_data"
    }
   ],
   "source": [
    "plt.plot(x, y, '.')"
   ]
  },
  {
   "cell_type": "code",
   "execution_count": 11,
   "metadata": {
    "collapsed": true
   },
   "outputs": [],
   "source": [
    "# 计算损失函数\n",
    "def cal_loss(X, w, b, y):\n",
    "    m = X.shape[0]\n",
    "    return 2./m * np.sum((X.dot(w) + b - y)**2)\n",
    "# 数值法求dw,db  d是Derivative导数的缩写\n",
    "def partial_w(X,w,b,y,h=1e-10):\n",
    "    #partial 偏的, 是偏导数么?\n",
    "    return (cal_loss(X,w+h,b,y)-cal_loss(X,w-h,b,y))/(2*h)\n",
    "    # (往上走一点点的损失 - 往下走一点点的损失)/2个一点点 - 数值法的导数公式就是这样. \n",
    "def partial_b(X,w,b,y,h=1e-10):\n",
    "    return (cal_loss(X,w,b+h,y)-cal_loss(X,w,b-h,y))/(2*h)"
   ]
  },
  {
   "cell_type": "code",
   "execution_count": 12,
   "metadata": {
    "collapsed": true
   },
   "outputs": [],
   "source": [
    "# 数据归一化\n",
    "def normalize(data):\n",
    "    data_mean, data_std = np.mean(data), np.std(data)\n",
    "    new_data = 1. * (data-data_mean)/data_std\n",
    "    return new_data"
   ]
  },
  {
   "cell_type": "code",
   "execution_count": 20,
   "metadata": {},
   "outputs": [],
   "source": [
    "\n",
    "# 梯度下降函数\n",
    "def grad_desc(X,y,alpha=0.001, tol=1e-8, max_iter=1000000):\n",
    "    m = X.shape\n",
    "    w = np.random.random()\n",
    "    b = np.random.random()\n",
    "    \n",
    "    loss = cal_loss(X,w,b,y)\n",
    "    print ('initial loss:',loss)\n",
    "    #保存所有 loss 值\n",
    "    loss_list = [loss]\n",
    "    \n",
    "    iter_no = 1\n",
    "    while True:\n",
    "#        #解析解\n",
    "#        1=x.dot(w)+b-y\n",
    "#        dw = 1./m * np.sum(2*1*X, axis=0).reshape(n,1)\n",
    "#        db = 1./m * np.sum(2*(X.dot(w)+b-y))\n",
    "#        #数值解\n",
    "        dw = partial_w(X,w,b,y)\n",
    "        db = partial_b(X,w,b,y)\n",
    "        w -= alpha*dw\n",
    "        b -= alpha*db\n",
    "        new_loss = cal_loss(X,w,b,y)\n",
    "        loss_list.append(new_loss)\n",
    "        \n",
    "        # 每迭代1000次, 输出结果\n",
    "        if iter_no % 1000 ==0:\n",
    "            print ('After %d iteration, loss: %f' % (iter_no, new_loss),)\n",
    "            print ('dw:',dw, 'db:',db,'w:',w,'b:',b)\n",
    "        # 当 loss 不再下降时,终止迭代\n",
    "        if abs(new_loss - loss) < tol:\n",
    "            print (\"find best w and b, w: \", w, ', b:',b)\n",
    "            return w,b,loss_list, iter_no\n",
    "        loss = new_loss\n",
    "        # 超过最大迭代次数时, 终止迭代, 检查参数\n",
    "        if iter_no == max_iter:\n",
    "            print (\"Exceed max iteration, please check your parameters.\")\n",
    "            return\n",
    "        iter_no +=1"
   ]
  },
  {
   "cell_type": "code",
   "execution_count": 27,
   "metadata": {
    "collapsed": true
   },
   "outputs": [],
   "source": [
    "# 生成添加噪声的数据\n",
    "size = 50\n",
    "X = np.arange(size).reshape((-1,1))\n",
    "y = X* 10 + 5 + np.random.normal(scale=1., size=(size, 1))\n",
    "X_norm = normalize(X)"
   ]
  },
  {
   "cell_type": "code",
   "execution_count": 28,
   "metadata": {},
   "outputs": [
    {
     "name": "stdout",
     "output_type": "stream",
     "text": [
      "initial loss: 135342.499074\n",
      "After 1000 iteration, loss: 11.391004\n",
      "dw: 0.130917499064 db: -4.31889191077 w: 10.1032360998 b: 1.36855883348\n",
      "After 2000 iteration, loss: 8.331379\n",
      "dw: 0.106563646796 db: -3.51521478592 w: 10.0795747958 b: 2.14913326169\n",
      "After 3000 iteration, loss: 6.304507\n",
      "dw: 0.0867128591153 db: -2.86108470249 w: 10.0603164808 b: 2.78445533131\n",
      "After 4000 iteration, loss: 4.961789\n",
      "dw: 0.0705879799057 db: -2.32869279415 w: 10.0446418175 b: 3.30155446637\n",
      "After 5000 iteration, loss: 4.072295\n",
      "dw: 0.0574518210783 db: -1.89535942496 w: 10.0318839543 b: 3.72242991109\n",
      "After 6000 iteration, loss: 3.483072\n",
      "dw: 0.0467492711209 db: -1.54269708119 w: 10.0215006658 b: 4.06496958283\n",
      "After 7000 iteration, loss: 3.092729\n",
      "dw: 0.0380562248381 db: -1.25564447728 w: 10.0130494519 b: 4.34377051495\n",
      "After 8000 iteration, loss: 2.834139\n",
      "dw: 0.0310218517541 db: -1.02200248264 w: 10.0061708378 b: 4.57069264714\n",
      "After 9000 iteration, loss: 2.662832\n",
      "dw: 0.0252664555944 db: -0.831679169977 w: 10.0005721918 b: 4.75538912881\n",
      "After 10000 iteration, loss: 2.549346\n",
      "dw: 0.0205702122003 db: -0.677058409337 w: 9.99601532977 b: 4.90571771394\n",
      "After 11000 iteration, loss: 2.474165\n",
      "dw: 0.0166977542904 db: -0.550943735078 w: 9.99230642326 b: 5.02807299718\n",
      "After 12000 iteration, loss: 2.424360\n",
      "dw: 0.0135935707135 db: -0.448414638754 w: 9.98928764869 b: 5.12766088401\n",
      "After 13000 iteration, loss: 2.391366\n",
      "dw: 0.0110200737424 db: -0.365092400756 w: 9.98683059325 b: 5.20871776166\n",
      "After 14000 iteration, loss: 2.369509\n",
      "dw: 0.00901279051391 db: -0.297162294771 w: 9.98483074096 b: 5.27469142508\n",
      "After 15000 iteration, loss: 2.355029\n",
      "dw: 0.00733413330067 db: -0.241875408591 w: 9.9832030341 b: 5.32838863576\n",
      "After 16000 iteration, loss: 2.345436\n",
      "dw: 0.00590416604496 db: -0.196764826654 w: 9.98187823472 b: 5.37209352747\n",
      "After 17000 iteration, loss: 2.339081\n",
      "dw: 0.00480504525058 db: -0.160140789518 w: 9.98079995015 b: 5.40766568158\n",
      "After 18000 iteration, loss: 2.334872\n",
      "dw: 0.00401456645704 db: -0.130444544055 w: 9.97992230242 b: 5.43661853281\n",
      "After 19000 iteration, loss: 2.332083\n",
      "dw: 0.00319744231092 db: -0.106075148665 w: 9.97920798892 b: 5.4601837759\n",
      "After 20000 iteration, loss: 2.330235\n",
      "dw: 0.00259348098552 db: -0.0864330829131 w: 9.97862657045 b: 5.47936447426\n",
      "After 21000 iteration, loss: 2.329011\n",
      "dw: 0.00214495088358 db: -0.0703570535165 w: 9.97815331835 b: 5.49497626967\n",
      "After 22000 iteration, loss: 2.328200\n",
      "dw: 0.00166977542904 db: -0.0572741853944 w: 9.977768154 b: 5.50768306706\n",
      "After 23000 iteration, loss: 2.327663\n",
      "dw: 0.00134559030585 db: -0.0466271465882 w: 9.97745463857 b: 5.51802577642\n",
      "After 24000 iteration, loss: 2.327307\n",
      "dw: 0.00114797060746 db: -0.0378563846937 w: 9.97719947867 b: 5.52644356777\n",
      "After 25000 iteration, loss: 2.327071\n",
      "dw: 0.00100586206031 db: -0.0308020275952 w: 9.9769917857 b: 5.5332947767\n",
      "After 26000 iteration, loss: 2.326915\n",
      "dw: 0.000768274333041 db: -0.0250643950039 w: 9.97682273826 b: 5.53887132571\n",
      "After 27000 iteration, loss: 2.326812\n",
      "dw: 0.000566213742559 db: -0.0203881356242 w: 9.97668515942 b: 5.54341052228\n",
      "After 28000 iteration, loss: 2.326743\n",
      "dw: 0.000517363929475 db: -0.0166888725062 w: 9.97657316323 b: 5.54710476408\n",
      "After 29000 iteration, loss: 2.326698\n",
      "dw: 0.000339728245535 db: -0.0134892097492 w: 9.97648204367 b: 5.55011117875\n",
      "After 30000 iteration, loss: 2.326668\n",
      "dw: 0.000341948691585 db: -0.0110689235555 w: 9.97640784258 b: 5.55255855483\n",
      "After 31000 iteration, loss: 2.326648\n",
      "dw: 0.000290878432452 db: -0.00892175222589 w: 9.97634746643 b: 5.55455036511\n",
      "After 32000 iteration, loss: 2.326635\n",
      "dw: 0.000173194791842 db: -0.00734967642302 w: 9.97629833329 b: 5.55617175124\n",
      "find best w and b, w:  9.97629205121 , b: 5.5563791076\n"
     ]
    }
   ],
   "source": [
    "\n",
    "w,b,loss_list,iter_no = grad_desc(X,y,alpha=0.0002)"
   ]
  },
  {
   "cell_type": "code",
   "execution_count": 29,
   "metadata": {},
   "outputs": [
    {
     "name": "stdout",
     "output_type": "stream",
     "text": [
      "initial loss: 165660.44018\n",
      "After 1000 iteration, loss: 33426.594592\n",
      "dw: -258.842192125 db: -448.053469881 w: 79.3015372597 b: 138.035548292\n",
      "After 2000 iteration, loss: 6747.212600\n",
      "dw: -116.256160254 db: -201.280272449 w: 114.918700381 b: 199.689740288\n",
      "After 3000 iteration, loss: 1363.437697\n",
      "dw: -52.2231857758 db: -90.424236987 w: 130.916847927 b: 227.38662405\n",
      "After 4000 iteration, loss: 277.009089\n",
      "dw: -23.4592789639 db: -40.6208755521 w: 138.102579688 b: 239.828898333\n",
      "After 5000 iteration, loss: 57.759566\n",
      "dw: -10.5386988025 db: -18.2482295941 w: 141.330631768 b: 245.418338994\n",
      "After 6000 iteration, loss: 13.513395\n",
      "dw: -4.73400874057 db: -8.19763812387 w: 142.780767697 b: 247.929282288\n",
      "After 7000 iteration, loss: 4.584183\n",
      "dw: -2.12684980738 db: -3.68262309536 w: 143.432213366 b: 249.057272982\n",
      "After 8000 iteration, loss: 2.782204\n",
      "dw: -0.955286960647 db: -1.65434110855 w: 143.724861349 b: 249.564000029\n",
      "After 9000 iteration, loss: 2.418551\n",
      "dw: -0.429174473737 db: -0.743178851792 w: 143.856327936 b: 249.791636923\n",
      "After 10000 iteration, loss: 2.345163\n",
      "dw: -0.192807991795 db: -0.333859606627 w: 143.915386908 b: 249.893898201\n",
      "After 11000 iteration, loss: 2.330353\n",
      "dw: -0.0866373639496 db: -0.149982248843 w: 143.941917591 b: 249.939837002\n",
      "After 12000 iteration, loss: 2.327364\n",
      "dw: -0.038906655675 db: -0.0673749944724 w: 143.953835691 b: 249.960474084\n",
      "After 13000 iteration, loss: 2.326761\n",
      "dw: -0.0173638881051 db: -0.0302669000973 w: 143.959189979 b: 249.96974487\n",
      "After 14000 iteration, loss: 2.326639\n",
      "dw: -0.00778266340262 db: -0.0135980116056 w: 143.961595115 b: 249.973909595\n",
      "find best w and b, w:  143.962673535 , b: 249.975775629\n"
     ]
    }
   ],
   "source": [
    "w,b,loss_list,iter_no = grad_desc(X_norm,y,alpha=0.0002)"
   ]
  },
  {
   "cell_type": "code",
   "execution_count": null,
   "metadata": {
    "collapsed": true
   },
   "outputs": [],
   "source": []
  }
 ],
 "metadata": {
  "kernelspec": {
   "display_name": "Python 3",
   "language": "python",
   "name": "python3"
  },
  "language_info": {
   "codemirror_mode": {
    "name": "ipython",
    "version": 3
   },
   "file_extension": ".py",
   "mimetype": "text/x-python",
   "name": "python",
   "nbconvert_exporter": "python",
   "pygments_lexer": "ipython3",
   "version": "3.6.2"
  }
 },
 "nbformat": 4,
 "nbformat_minor": 2
}
