{
 "cells": [
  {
   "cell_type": "code",
   "execution_count": 1,
   "metadata": {
    "collapsed": true
   },
   "outputs": [],
   "source": [
    "import os\n",
    "import cv2\n",
    "import random\n",
    "import numpy as np\n",
    "import pandas as pd\n",
    "import seaborn as sns\n",
    "import matplotlib.pyplot as plt\n",
    "import warnings\n",
    "import itertools\n",
    "\n",
    "from tqdm import tqdm\n",
    "from sklearn.utils import shuffle\n",
    "from sklearn.model_selection import train_test_split\n",
    "from sklearn.metrics import confusion_matrix\n",
    "\n",
    "\n",
    "warnings.filterwarnings('ignore')\n",
    "%matplotlib inline\n",
    "%config InlineBackend.figure_format = 'retina'"
   ]
  },
  {
   "cell_type": "markdown",
   "metadata": {},
   "source": [
    "## 导入数据\n",
    "-  label 文件一共有 79572 行\n",
    "- 各种维度混合在一起\n",
    "- 我们的目的是切分开各种维度, 进行训练和模拟\n",
    "- 那么首先取出个标签的图片进行聚类"
   ]
  },
  {
   "cell_type": "code",
   "execution_count": 31,
   "metadata": {},
   "outputs": [
    {
     "data": {
      "text/html": [
       "<div>\n",
       "<style>\n",
       "    .dataframe thead tr:only-child th {\n",
       "        text-align: right;\n",
       "    }\n",
       "\n",
       "    .dataframe thead th {\n",
       "        text-align: left;\n",
       "    }\n",
       "\n",
       "    .dataframe tbody tr th {\n",
       "        vertical-align: top;\n",
       "    }\n",
       "</style>\n",
       "<table border=\"1\" class=\"dataframe\">\n",
       "  <thead>\n",
       "    <tr style=\"text-align: right;\">\n",
       "      <th></th>\n",
       "      <th>image_id</th>\n",
       "      <th>class</th>\n",
       "      <th>label</th>\n",
       "    </tr>\n",
       "  </thead>\n",
       "  <tbody>\n",
       "    <tr>\n",
       "      <th>0</th>\n",
       "      <td>Images/collar_design_labels/4d8a38b29930a403e5...</td>\n",
       "      <td>collar_design_labels</td>\n",
       "      <td>nnynn</td>\n",
       "    </tr>\n",
       "    <tr>\n",
       "      <th>1</th>\n",
       "      <td>Images/collar_design_labels/bd0981f231180d2b00...</td>\n",
       "      <td>collar_design_labels</td>\n",
       "      <td>nynnn</td>\n",
       "    </tr>\n",
       "    <tr>\n",
       "      <th>2</th>\n",
       "      <td>Images/collar_design_labels/26937e1724feadfe39...</td>\n",
       "      <td>collar_design_labels</td>\n",
       "      <td>ynnnn</td>\n",
       "    </tr>\n",
       "    <tr>\n",
       "      <th>3</th>\n",
       "      <td>Images/collar_design_labels/cf4140ec542887270f...</td>\n",
       "      <td>collar_design_labels</td>\n",
       "      <td>nynnn</td>\n",
       "    </tr>\n",
       "    <tr>\n",
       "      <th>4</th>\n",
       "      <td>Images/collar_design_labels/50644b2b9de045f2d1...</td>\n",
       "      <td>collar_design_labels</td>\n",
       "      <td>nynnn</td>\n",
       "    </tr>\n",
       "  </tbody>\n",
       "</table>\n",
       "</div>"
      ],
      "text/plain": [
       "                                            image_id                 class  \\\n",
       "0  Images/collar_design_labels/4d8a38b29930a403e5...  collar_design_labels   \n",
       "1  Images/collar_design_labels/bd0981f231180d2b00...  collar_design_labels   \n",
       "2  Images/collar_design_labels/26937e1724feadfe39...  collar_design_labels   \n",
       "3  Images/collar_design_labels/cf4140ec542887270f...  collar_design_labels   \n",
       "4  Images/collar_design_labels/50644b2b9de045f2d1...  collar_design_labels   \n",
       "\n",
       "   label  \n",
       "0  nnynn  \n",
       "1  nynnn  \n",
       "2  ynnnn  \n",
       "3  nynnn  \n",
       "4  nynnn  "
      ]
     },
     "execution_count": 31,
     "metadata": {},
     "output_type": "execute_result"
    }
   ],
   "source": [
    "df_train = pd.read_csv('./Annotations/label.csv', header=None)\n",
    "df_train.columns = ['image_id', 'class', 'label']\n",
    "df_train.head()"
   ]
  },
  {
   "cell_type": "code",
   "execution_count": 32,
   "metadata": {
    "collapsed": true
   },
   "outputs": [],
   "source": [
    "classes = ['collar_design_labels', 'neckline_design_labels', 'skirt_length_labels',\n",
    "          'sleeve_length_labels', 'neck_design_labels', 'coat_length_labels', 'lapel_design_labels',\n",
    "          'pant_length_labels']"
   ]
  },
  {
   "cell_type": "code",
   "execution_count": 33,
   "metadata": {},
   "outputs": [
    {
     "name": "stdout",
     "output_type": "stream",
     "text": [
      "pant_length_labels: 7460\n"
     ]
    },
    {
     "data": {
      "text/html": [
       "<div>\n",
       "<style>\n",
       "    .dataframe thead tr:only-child th {\n",
       "        text-align: right;\n",
       "    }\n",
       "\n",
       "    .dataframe thead th {\n",
       "        text-align: left;\n",
       "    }\n",
       "\n",
       "    .dataframe tbody tr th {\n",
       "        vertical-align: top;\n",
       "    }\n",
       "</style>\n",
       "<table border=\"1\" class=\"dataframe\">\n",
       "  <thead>\n",
       "    <tr style=\"text-align: right;\">\n",
       "      <th></th>\n",
       "      <th>image_id</th>\n",
       "      <th>class</th>\n",
       "      <th>label</th>\n",
       "    </tr>\n",
       "  </thead>\n",
       "  <tbody>\n",
       "    <tr>\n",
       "      <th>0</th>\n",
       "      <td>Images/pant_length_labels/07264732b8dfa05ca485...</td>\n",
       "      <td>pant_length_labels</td>\n",
       "      <td>ynnnnn</td>\n",
       "    </tr>\n",
       "    <tr>\n",
       "      <th>1</th>\n",
       "      <td>Images/pant_length_labels/ae01c534cddd89261c95...</td>\n",
       "      <td>pant_length_labels</td>\n",
       "      <td>nnynnn</td>\n",
       "    </tr>\n",
       "    <tr>\n",
       "      <th>2</th>\n",
       "      <td>Images/pant_length_labels/7d51f1a23c93213e4652...</td>\n",
       "      <td>pant_length_labels</td>\n",
       "      <td>nnnnny</td>\n",
       "    </tr>\n",
       "    <tr>\n",
       "      <th>3</th>\n",
       "      <td>Images/pant_length_labels/5c9f7c834ae1c1daa3f5...</td>\n",
       "      <td>pant_length_labels</td>\n",
       "      <td>nynnnn</td>\n",
       "    </tr>\n",
       "    <tr>\n",
       "      <th>4</th>\n",
       "      <td>Images/pant_length_labels/e1eb7a176c228107125d...</td>\n",
       "      <td>pant_length_labels</td>\n",
       "      <td>nnnnyn</td>\n",
       "    </tr>\n",
       "  </tbody>\n",
       "</table>\n",
       "</div>"
      ],
      "text/plain": [
       "                                            image_id               class  \\\n",
       "0  Images/pant_length_labels/07264732b8dfa05ca485...  pant_length_labels   \n",
       "1  Images/pant_length_labels/ae01c534cddd89261c95...  pant_length_labels   \n",
       "2  Images/pant_length_labels/7d51f1a23c93213e4652...  pant_length_labels   \n",
       "3  Images/pant_length_labels/5c9f7c834ae1c1daa3f5...  pant_length_labels   \n",
       "4  Images/pant_length_labels/e1eb7a176c228107125d...  pant_length_labels   \n",
       "\n",
       "    label  \n",
       "0  ynnnnn  \n",
       "1  nnynnn  \n",
       "2  nnnnny  \n",
       "3  nynnnn  \n",
       "4  nnnnyn  "
      ]
     },
     "execution_count": 33,
     "metadata": {},
     "output_type": "execute_result"
    }
   ],
   "source": [
    "cur_class = classes[7]\n",
    "df_load = df_train[(df_train['class'] == cur_class)].copy()\n",
    "df_load.reset_index(inplace=True)\n",
    "del df_load['index']\n",
    "\n",
    "print('{0}: {1}'.format(cur_class, len(df_load)))\n",
    "df_load.head()"
   ]
  },
  {
   "cell_type": "code",
   "execution_count": 34,
   "metadata": {
    "collapsed": true
   },
   "outputs": [],
   "source": [
    "n = len(df_load)\n",
    "n_class = len(df_load['label'][0])\n",
    "width = 299 # 定义图片大小\n",
    "\n",
    "X = np.zeros((n, width, width, 3), dtype=np.uint8)\n",
    "y = np.zeros((n, n_class), dtype=np.uint8)"
   ]
  },
  {
   "cell_type": "code",
   "execution_count": 35,
   "metadata": {},
   "outputs": [
    {
     "data": {
      "text/plain": [
       "6"
      ]
     },
     "execution_count": 35,
     "metadata": {},
     "output_type": "execute_result"
    }
   ],
   "source": [
    "n_class"
   ]
  },
  {
   "cell_type": "code",
   "execution_count": 36,
   "metadata": {},
   "outputs": [
    {
     "name": "stdout",
     "output_type": "stream",
     "text": [
      "./Images/pant_length_labels/07264732b8dfa05ca4857c71d2f9fb4b.jpg\n"
     ]
    }
   ],
   "source": [
    "print('./{0}'.format(df_load['image_id'][0]))"
   ]
  },
  {
   "cell_type": "code",
   "execution_count": 37,
   "metadata": {
    "collapsed": true
   },
   "outputs": [],
   "source": [
    "n = len(df_load)\n",
    "n_class = len(df_load['label'][0])\n",
    "width = 299 # 定义图片大小\n",
    "\n",
    "X = np.zeros((n, width, width, 3), dtype=np.uint8)\n",
    "y = np.zeros((n, n_class), dtype=np.uint8)"
   ]
  },
  {
   "cell_type": "code",
   "execution_count": 38,
   "metadata": {},
   "outputs": [
    {
     "name": "stderr",
     "output_type": "stream",
     "text": [
      "100%|██████████| 7460/7460 [00:48<00:00, 155.00it/s]\n"
     ]
    }
   ],
   "source": [
    "for i in tqdm(range(n)):\n",
    "    tmp_label = df_load['label'][i]\n",
    "    if len(tmp_label) > n_class:\n",
    "        print(df_load['image_id'][i])\n",
    "    X[i] = cv2.resize(cv2.imread('./{0}'.format(df_load['image_id'][i])), (width, width))\n",
    "    y[i][tmp_label.find('y')] = 1"
   ]
  },
  {
   "cell_type": "code",
   "execution_count": 39,
   "metadata": {},
   "outputs": [
    {
     "data": {
      "text/plain": [
       "((7460, 299, 299, 3), (7460, 6))"
      ]
     },
     "execution_count": 39,
     "metadata": {},
     "output_type": "execute_result"
    }
   ],
   "source": [
    "X.shape, y.shape"
   ]
  },
  {
   "cell_type": "code",
   "execution_count": 40,
   "metadata": {
    "collapsed": true
   },
   "outputs": [],
   "source": [
    "#plt.figure(figsize=(12, 7))\n",
    "#for i in range(8):\n",
    "#    random_index = random.randint(0, n-1)\n",
    "#    plt.subplot(2, 4, i+1)\n",
    "#    plt.imshow(X[random_index][:,:,::-1])\n",
    "#    plt.title(y[random_index])"
   ]
  },
  {
   "cell_type": "markdown",
   "metadata": {},
   "source": [
    "## 提取特征"
   ]
  },
  {
   "cell_type": "code",
   "execution_count": 2,
   "metadata": {},
   "outputs": [
    {
     "name": "stderr",
     "output_type": "stream",
     "text": [
      "Using TensorFlow backend.\n"
     ]
    }
   ],
   "source": [
    "from keras.layers import *\n",
    "from keras.models import *\n",
    "from keras.callbacks import *\n",
    "from keras.optimizers import *\n",
    "from keras.applications import *\n",
    "from keras.regularizers import *\n",
    "from keras.applications.inception_v3 import preprocess_input\n",
    "from keras.preprocessing.image import ImageDataGenerator\n",
    "from keras.callbacks import ReduceLROnPlateau\n",
    "from keras.optimizers import RMSprop\n",
    "import keras"
   ]
  },
  {
   "cell_type": "code",
   "execution_count": 4,
   "metadata": {
    "collapsed": true
   },
   "outputs": [],
   "source": [
    "width = 299 # 定义图片大小"
   ]
  },
  {
   "cell_type": "code",
   "execution_count": null,
   "metadata": {},
   "outputs": [],
   "source": [
    "cnn_model = InceptionResNetV2(include_top=False, input_shape=(width, width, 3), weights='imagenet')"
   ]
  },
  {
   "cell_type": "code",
   "execution_count": null,
   "metadata": {
    "collapsed": true
   },
   "outputs": [],
   "source": [
    "print(cnn_model.summary())\n",
    "i = 0\n",
    "for layer in res2.layers[:]:\n",
    "    i = i +1\n",
    "print(i)"
   ]
  },
  {
   "cell_type": "code",
   "execution_count": 43,
   "metadata": {
    "collapsed": true
   },
   "outputs": [],
   "source": [
    "inputs = Input((width, width, 3))\n",
    "\n",
    "x = inputs\n",
    "x = Lambda(preprocess_input, name='preprocessing')(x)\n",
    "x = cnn_model(x)\n",
    "x = GlobalAveragePooling2D()(x)\n",
    "x = Dropout(0.5)(x)\n",
    "x = Dense(n_class, activation='softmax', name='softmax')(x)\n",
    "\n",
    "model = Model(inputs, x)"
   ]
  },
  {
   "cell_type": "markdown",
   "metadata": {},
   "source": [
    "## 划分训练/测试集"
   ]
  },
  {
   "cell_type": "code",
   "execution_count": 44,
   "metadata": {},
   "outputs": [
    {
     "data": {
      "text/plain": [
       "((6564, 299, 299, 3), (6564, 6))"
      ]
     },
     "execution_count": 44,
     "metadata": {},
     "output_type": "execute_result"
    }
   ],
   "source": [
    "X_train, X_valid, y_train, y_valid = train_test_split(X, y, test_size=0.12, random_state=42)\n",
    "X_train.shape, y_train.shape"
   ]
  },
  {
   "cell_type": "code",
   "execution_count": 45,
   "metadata": {
    "collapsed": true
   },
   "outputs": [],
   "source": [
    "# Compile the model\n",
    "adam = Adam(lr=0.001) \n",
    "\n",
    "model.compile(optimizer=adam, loss='categorical_crossentropy', metrics=['accuracy'])\n",
    "# Set a learning rate annealer\n",
    "# learning_rate_reduction = ReduceLROnPlateau(monitor='val_acc',\n",
    "#                                             patience=3,\n",
    "#                                             verbose=1,\n",
    "#                                             factor=0.1,\n",
    "#                                             min_lr=0.00001)\n",
    "epochs = 16\n",
    "batch_size = 32"
   ]
  },
  {
   "cell_type": "markdown",
   "metadata": {},
   "source": [
    "## 数据增强"
   ]
  },
  {
   "cell_type": "code",
   "execution_count": 46,
   "metadata": {
    "collapsed": true
   },
   "outputs": [],
   "source": [
    "datagen = ImageDataGenerator(\n",
    "        featurewise_center = False, # set input mean to 0 over the dataset\n",
    "        samplewise_center = False, # set each sample mean to 0\n",
    "        featurewise_std_normalization = False, # divide inputs by std of the dataset\n",
    "        samplewise_std_normalization = False, # divide each input by its std\n",
    "        zca_whitening = False, # apply ZCA whitening\n",
    "        rotation_range = 10, # randomly rotate images in the range (degrees, 0 to 180)\n",
    "        zoom_range = 0.05, # randomly zoom image\n",
    "        width_shift_range = 0.075, # randomly shift images horizontally (fraction of total width)\n",
    "        height_shift_range = 0.075, # randomly shift images vertivally (fraction of total heigth)\n",
    "        horizontal_flip = True, # randomly flip images\n",
    "        vertical_flip = False,\n",
    "        shear_range = 0.075,\n",
    "        fill_mode = 'constant',\n",
    "        cval = 0)\n",
    "\n",
    "datagen.fit(X_train)\n"
   ]
  },
  {
   "cell_type": "markdown",
   "metadata": {},
   "source": [
    "- 少量旋转\n",
    "- 少量偏移\n",
    "- 水平翻转\n",
    "- 垂直翻转"
   ]
  },
  {
   "cell_type": "code",
   "execution_count": 47,
   "metadata": {},
   "outputs": [
    {
     "name": "stdout",
     "output_type": "stream",
     "text": [
      "Epoch 1/16\n",
      "Epoch 00001: val_loss improved from inf to 0.93325, saving model to ./models/pant.best.h5\n",
      " - 213s - loss: 0.9445 - acc: 0.6370 - val_loss: 0.9333 - val_acc: 0.6596\n",
      "Epoch 2/16\n",
      "Epoch 00002: val_loss improved from 0.93325 to 0.85811, saving model to ./models/pant.best.h5\n",
      " - 169s - loss: 0.6665 - acc: 0.7563 - val_loss: 0.8581 - val_acc: 0.7344\n",
      "Epoch 3/16\n",
      "Epoch 00003: val_loss improved from 0.85811 to 0.55665, saving model to ./models/pant.best.h5\n",
      " - 169s - loss: 0.5777 - acc: 0.7881 - val_loss: 0.5566 - val_acc: 0.7946\n",
      "Epoch 4/16\n",
      "Epoch 00004: val_loss did not improve\n",
      " - 166s - loss: 0.5318 - acc: 0.8052 - val_loss: 0.6565 - val_acc: 0.7612\n",
      "Epoch 5/16\n",
      "Epoch 00005: val_loss improved from 0.55665 to 0.51301, saving model to ./models/pant.best.h5\n",
      " - 168s - loss: 0.4724 - acc: 0.8264 - val_loss: 0.5130 - val_acc: 0.8203\n",
      "Epoch 6/16\n",
      "Epoch 00006: val_loss improved from 0.51301 to 0.47869, saving model to ./models/pant.best.h5\n",
      " - 168s - loss: 0.4118 - acc: 0.8468 - val_loss: 0.4787 - val_acc: 0.8382\n",
      "Epoch 7/16\n",
      "Epoch 00007: val_loss improved from 0.47869 to 0.43027, saving model to ./models/pant.best.h5\n",
      " - 168s - loss: 0.3946 - acc: 0.8553 - val_loss: 0.4303 - val_acc: 0.8337\n",
      "Epoch 8/16\n",
      "Epoch 00008: val_loss did not improve\n",
      " - 166s - loss: 0.3933 - acc: 0.8573 - val_loss: 0.5221 - val_acc: 0.8259\n",
      "Epoch 9/16\n",
      "Epoch 00009: val_loss did not improve\n",
      " - 166s - loss: 0.3367 - acc: 0.8727 - val_loss: 0.4523 - val_acc: 0.8404\n",
      "Epoch 10/16\n",
      "Epoch 00010: val_loss did not improve\n",
      " - 166s - loss: 0.3131 - acc: 0.8826 - val_loss: 0.5405 - val_acc: 0.8036\n",
      "Epoch 11/16\n",
      "Epoch 00011: val_loss did not improve\n",
      " - 166s - loss: 0.2998 - acc: 0.8928 - val_loss: 0.6695 - val_acc: 0.7857\n",
      "Epoch 12/16\n",
      "Epoch 00012: val_loss did not improve\n",
      " - 166s - loss: 0.2970 - acc: 0.8887 - val_loss: 0.4677 - val_acc: 0.8281\n"
     ]
    }
   ],
   "source": [
    "prefix_cls = cur_class.split('_')[0]\n",
    "\n",
    "checkpointer = ModelCheckpoint(filepath='./models/{0}.best.h5'.format(prefix_cls), verbose=1, \n",
    "                               save_best_only=True, mode='val_acc')\n",
    "\n",
    "try:\n",
    "    # Fit the model\n",
    "    history = model.fit_generator(datagen.flow(X_train, y_train, batch_size=batch_size),\n",
    "                                  epochs=epochs, validation_data=(X_valid, y_valid),\n",
    "                                  verbose=2, steps_per_epoch=X_train.shape[0] // batch_size,\n",
    "                                  callbacks=[EarlyStopping(patience=5), checkpointer])\n",
    "except KeyboardInterrupt:\n",
    "    print('KeyboardInterrupt')"
   ]
  },
  {
   "cell_type": "markdown",
   "metadata": {},
   "source": [
    "## 测试模型"
   ]
  },
  {
   "cell_type": "code",
   "execution_count": 48,
   "metadata": {},
   "outputs": [
    {
     "data": {
      "image/png": "[encoded data removed]",
      "text/plain": [
       "<matplotlib.figure.Figure at 0x7f41f541d898>"
      ]
     },
     "metadata": {
      "image/png": {
       "height": 250,
       "width": 373
      }
     },
     "output_type": "display_data"
    }
   ],
   "source": [
    "# Plot the loss and accuracy curves for training and validation\n",
    "fig, ax = plt.subplots(2, 1)\n",
    "ax[0].plot(history.history['loss'], color='b', label=\"Training loss\")\n",
    "ax[0].plot(history.history['val_loss'], color='r', label=\"Validation loss\", axes=ax[0])\n",
    "legend = ax[0].legend(loc='best', shadow=True)\n",
    "\n",
    "ax[1].plot(history.history['acc'], color='b', label=\"Training accuracy\")\n",
    "ax[1].plot(history.history['val_acc'], color='r', label=\"Validation accuracy\")\n",
    "legend = ax[1].legend(loc='best', shadow=True)"
   ]
  },
  {
   "cell_type": "markdown",
   "metadata": {},
   "source": [
    "## 混淆矩阵"
   ]
  },
  {
   "cell_type": "code",
   "execution_count": 49,
   "metadata": {},
   "outputs": [
    {
     "ename": "NameError",
     "evalue": "name 'X_val' is not defined",
     "output_type": "error",
     "traceback": [
      "\u001b[0;31m---------------------------------------------------------------------------\u001b[0m",
      "\u001b[0;31mNameError\u001b[0m                                 Traceback (most recent call last)",
      "\u001b[0;32m<ipython-input-49-4e1dbe0a3b88>\u001b[0m in \u001b[0;36m<module>\u001b[0;34m()\u001b[0m\n\u001b[1;32m     30\u001b[0m \u001b[0;34m\u001b[0m\u001b[0m\n\u001b[1;32m     31\u001b[0m \u001b[0;31m# Predict the values from the validation dataset\u001b[0m\u001b[0;34m\u001b[0m\u001b[0;34m\u001b[0m\u001b[0m\n\u001b[0;32m---> 32\u001b[0;31m \u001b[0mY_pred\u001b[0m \u001b[0;34m=\u001b[0m \u001b[0mmodel\u001b[0m\u001b[0;34m.\u001b[0m\u001b[0mpredict\u001b[0m\u001b[0;34m(\u001b[0m\u001b[0mX_val\u001b[0m\u001b[0;34m)\u001b[0m\u001b[0;34m\u001b[0m\u001b[0m\n\u001b[0m\u001b[1;32m     33\u001b[0m \u001b[0;31m# Convert predictions classes to one hot vectors\u001b[0m\u001b[0;34m\u001b[0m\u001b[0;34m\u001b[0m\u001b[0m\n\u001b[1;32m     34\u001b[0m \u001b[0mY_pred_classes\u001b[0m \u001b[0;34m=\u001b[0m \u001b[0mnp\u001b[0m\u001b[0;34m.\u001b[0m\u001b[0margmax\u001b[0m\u001b[0;34m(\u001b[0m\u001b[0mY_pred\u001b[0m\u001b[0;34m,\u001b[0m \u001b[0maxis\u001b[0m\u001b[0;34m=\u001b[0m\u001b[0;36m1\u001b[0m\u001b[0;34m)\u001b[0m\u001b[0;34m\u001b[0m\u001b[0m\n",
      "\u001b[0;31mNameError\u001b[0m: name 'X_val' is not defined"
     ]
    }
   ],
   "source": [
    "## Look at confusion matrix\n",
    "\n",
    "def plot_confusion_matrix(cm, classes,\n",
    "                          normalize=False,\n",
    "                          title='Confusion matrix',\n",
    "                          cmap=plt.cm.Blues):\n",
    "    \"\"\"\n",
    "    This fuction prints and plots the confusion matrix.\n",
    "    Normalization can be applied by setting 'normalize=True'\n",
    "    \"\"\"\n",
    "    plt.imshow(cm, interpolation='nearest', cmap=cmap)\n",
    "    plt.title(title)\n",
    "    plt.colorbar()\n",
    "    tick_marks = np.arange(len(classes))\n",
    "    plt.xticks(tick_marks, classes, rotation=45)\n",
    "    plt.yticks(tick_marks, classes)\n",
    "    \n",
    "    if normalize:\n",
    "        cm = cm.astype('float') / cm.sum(axis=1)[:, np.newaxis]\n",
    "        \n",
    "    thresh = cm.max() / 2.\n",
    "    for i,j in itertools.product(range(cm.shape[0]), range(cm.shape[1])):\n",
    "        plt.text(j, i, cm[i, j],\n",
    "                 horizontalalignment=\"center\",\n",
    "                 color=\"white\" if cm[i, j] > thresh else \"black\")\n",
    "        \n",
    "    plt.tight_layout()\n",
    "    plt.ylabel('True label')\n",
    "    plt.xlabel('Predicted label')\n",
    "    \n",
    "# Predict the values from the validation dataset\n",
    "Y_pred = model.predict(X_val)\n",
    "# Convert predictions classes to one hot vectors\n",
    "Y_pred_classes = np.argmax(Y_pred, axis=1)\n",
    "# Convert validation observations to one hot vectors\n",
    "Y_true = np.argmax(Y_val, axis=1)\n",
    "# Compute the confusion matrix\n",
    "confusion_mtx = confusion_matrix(Y_true, Y_pred_classes)\n",
    "# plt the confusion matrix\n",
    "plot_confusion_matrix(confusion_mtx, classes=range(n_class))\n"
   ]
  },
  {
   "cell_type": "markdown",
   "metadata": {},
   "source": [
    "## 误差审查"
   ]
  },
  {
   "cell_type": "code",
   "execution_count": null,
   "metadata": {
    "collapsed": true
   },
   "outputs": [],
   "source": []
  },
  {
   "cell_type": "markdown",
   "metadata": {},
   "source": [
    "## 加载模型"
   ]
  },
  {
   "cell_type": "code",
   "execution_count": 50,
   "metadata": {},
   "outputs": [
    {
     "data": {
      "text/html": [
       "<div>\n",
       "<style>\n",
       "    .dataframe thead tr:only-child th {\n",
       "        text-align: right;\n",
       "    }\n",
       "\n",
       "    .dataframe thead th {\n",
       "        text-align: left;\n",
       "    }\n",
       "\n",
       "    .dataframe tbody tr th {\n",
       "        vertical-align: top;\n",
       "    }\n",
       "</style>\n",
       "<table border=\"1\" class=\"dataframe\">\n",
       "  <thead>\n",
       "    <tr style=\"text-align: right;\">\n",
       "      <th></th>\n",
       "      <th>image_id</th>\n",
       "      <th>class</th>\n",
       "    </tr>\n",
       "  </thead>\n",
       "  <tbody>\n",
       "    <tr>\n",
       "      <th>0</th>\n",
       "      <td>Images/collar_design_labels/60951f5761ea3a01d6...</td>\n",
       "      <td>collar_design_labels</td>\n",
       "    </tr>\n",
       "    <tr>\n",
       "      <th>1</th>\n",
       "      <td>Images/collar_design_labels/677e1183282769a3fe...</td>\n",
       "      <td>collar_design_labels</td>\n",
       "    </tr>\n",
       "    <tr>\n",
       "      <th>2</th>\n",
       "      <td>Images/collar_design_labels/3f5a2be205e5d253eb...</td>\n",
       "      <td>collar_design_labels</td>\n",
       "    </tr>\n",
       "    <tr>\n",
       "      <th>3</th>\n",
       "      <td>Images/collar_design_labels/1712bf3d7b57d779ad...</td>\n",
       "      <td>collar_design_labels</td>\n",
       "    </tr>\n",
       "    <tr>\n",
       "      <th>4</th>\n",
       "      <td>Images/collar_design_labels/0b2b4254f35ce3a41a...</td>\n",
       "      <td>collar_design_labels</td>\n",
       "    </tr>\n",
       "  </tbody>\n",
       "</table>\n",
       "</div>"
      ],
      "text/plain": [
       "                                            image_id                 class\n",
       "0  Images/collar_design_labels/60951f5761ea3a01d6...  collar_design_labels\n",
       "1  Images/collar_design_labels/677e1183282769a3fe...  collar_design_labels\n",
       "2  Images/collar_design_labels/3f5a2be205e5d253eb...  collar_design_labels\n",
       "3  Images/collar_design_labels/1712bf3d7b57d779ad...  collar_design_labels\n",
       "4  Images/collar_design_labels/0b2b4254f35ce3a41a...  collar_design_labels"
      ]
     },
     "execution_count": 50,
     "metadata": {},
     "output_type": "execute_result"
    }
   ],
   "source": [
    "df_test = pd.read_csv('./rank/Tests/question.csv', header=None)\n",
    "df_test.columns = ['image_id', 'class', 'x']\n",
    "del df_test['x']\n",
    "df_test.head()"
   ]
  },
  {
   "cell_type": "code",
   "execution_count": 51,
   "metadata": {},
   "outputs": [
    {
     "name": "stdout",
     "output_type": "stream",
     "text": [
      "pant_length_labels: 949\n"
     ]
    },
    {
     "data": {
      "text/html": [
       "<div>\n",
       "<style>\n",
       "    .dataframe thead tr:only-child th {\n",
       "        text-align: right;\n",
       "    }\n",
       "\n",
       "    .dataframe thead th {\n",
       "        text-align: left;\n",
       "    }\n",
       "\n",
       "    .dataframe tbody tr th {\n",
       "        vertical-align: top;\n",
       "    }\n",
       "</style>\n",
       "<table border=\"1\" class=\"dataframe\">\n",
       "  <thead>\n",
       "    <tr style=\"text-align: right;\">\n",
       "      <th></th>\n",
       "      <th>image_id</th>\n",
       "      <th>class</th>\n",
       "    </tr>\n",
       "  </thead>\n",
       "  <tbody>\n",
       "    <tr>\n",
       "      <th>0</th>\n",
       "      <td>Images/pant_length_labels/7e25106e7a0f5ac5d26a...</td>\n",
       "      <td>pant_length_labels</td>\n",
       "    </tr>\n",
       "    <tr>\n",
       "      <th>1</th>\n",
       "      <td>Images/pant_length_labels/3f96c13d864f387e5831...</td>\n",
       "      <td>pant_length_labels</td>\n",
       "    </tr>\n",
       "    <tr>\n",
       "      <th>2</th>\n",
       "      <td>Images/pant_length_labels/b09780a6311ce0b5c694...</td>\n",
       "      <td>pant_length_labels</td>\n",
       "    </tr>\n",
       "    <tr>\n",
       "      <th>3</th>\n",
       "      <td>Images/pant_length_labels/501a6f529fe8d80c7886...</td>\n",
       "      <td>pant_length_labels</td>\n",
       "    </tr>\n",
       "    <tr>\n",
       "      <th>4</th>\n",
       "      <td>Images/pant_length_labels/aaa48326bf7a20ad213f...</td>\n",
       "      <td>pant_length_labels</td>\n",
       "    </tr>\n",
       "  </tbody>\n",
       "</table>\n",
       "</div>"
      ],
      "text/plain": [
       "                                            image_id               class\n",
       "0  Images/pant_length_labels/7e25106e7a0f5ac5d26a...  pant_length_labels\n",
       "1  Images/pant_length_labels/3f96c13d864f387e5831...  pant_length_labels\n",
       "2  Images/pant_length_labels/b09780a6311ce0b5c694...  pant_length_labels\n",
       "3  Images/pant_length_labels/501a6f529fe8d80c7886...  pant_length_labels\n",
       "4  Images/pant_length_labels/aaa48326bf7a20ad213f...  pant_length_labels"
      ]
     },
     "execution_count": 51,
     "metadata": {},
     "output_type": "execute_result"
    }
   ],
   "source": [
    "df_load = df_test[(df_test['class'] == cur_class)].copy()\n",
    "df_load.reset_index(inplace=True)\n",
    "del df_load['index']\n",
    "\n",
    "print('{0}: {1}'.format(cur_class, len(df_load)))\n",
    "df_load.head()"
   ]
  },
  {
   "cell_type": "code",
   "execution_count": 52,
   "metadata": {},
   "outputs": [
    {
     "data": {
      "text/plain": [
       "'./rank/Images/pant_length_labels/7e25106e7a0f5ac5d26a42fbe9648eaa.jpg'"
      ]
     },
     "execution_count": 52,
     "metadata": {},
     "output_type": "execute_result"
    }
   ],
   "source": [
    "'./rank/{0}'.format(df_load['image_id'][0])"
   ]
  },
  {
   "cell_type": "code",
   "execution_count": 53,
   "metadata": {},
   "outputs": [
    {
     "name": "stderr",
     "output_type": "stream",
     "text": [
      "100%|██████████| 949/949 [00:04<00:00, 203.12it/s]\n"
     ]
    }
   ],
   "source": [
    "n = len(df_load)\n",
    "X_test = np.zeros((n, width, width, 3), dtype=np.uint8)\n",
    "\n",
    "for i in tqdm(range(n)):\n",
    "    X_test[i] = cv2.resize(cv2.imread('./rank/{0}'.format(df_load['image_id'][i])), (width, width))\n"
   ]
  },
  {
   "cell_type": "code",
   "execution_count": 54,
   "metadata": {
    "collapsed": true
   },
   "outputs": [],
   "source": [
    "model.load_weights('./models/pant.best.h5')"
   ]
  },
  {
   "cell_type": "code",
   "execution_count": 55,
   "metadata": {
    "collapsed": true
   },
   "outputs": [],
   "source": [
    "test_np = model.predict(X_test, batch_size=256)"
   ]
  },
  {
   "cell_type": "code",
   "execution_count": 56,
   "metadata": {},
   "outputs": [
    {
     "data": {
      "text/plain": [
       "(949, 6)"
      ]
     },
     "execution_count": 56,
     "metadata": {},
     "output_type": "execute_result"
    }
   ],
   "source": [
    "test_np.shape"
   ]
  },
  {
   "cell_type": "code",
   "execution_count": 57,
   "metadata": {},
   "outputs": [
    {
     "data": {
      "text/html": [
       "<div>\n",
       "<style>\n",
       "    .dataframe thead tr:only-child th {\n",
       "        text-align: right;\n",
       "    }\n",
       "\n",
       "    .dataframe thead th {\n",
       "        text-align: left;\n",
       "    }\n",
       "\n",
       "    .dataframe tbody tr th {\n",
       "        vertical-align: top;\n",
       "    }\n",
       "</style>\n",
       "<table border=\"1\" class=\"dataframe\">\n",
       "  <thead>\n",
       "    <tr style=\"text-align: right;\">\n",
       "      <th></th>\n",
       "      <th>image_id</th>\n",
       "      <th>class</th>\n",
       "      <th>result</th>\n",
       "    </tr>\n",
       "  </thead>\n",
       "  <tbody>\n",
       "    <tr>\n",
       "      <th>0</th>\n",
       "      <td>Images/pant_length_labels/7e25106e7a0f5ac5d26a...</td>\n",
       "      <td>pant_length_labels</td>\n",
       "      <td>0.9487;0.0325;0.0013;0.0006;0.0054;0.0115</td>\n",
       "    </tr>\n",
       "    <tr>\n",
       "      <th>1</th>\n",
       "      <td>Images/pant_length_labels/3f96c13d864f387e5831...</td>\n",
       "      <td>pant_length_labels</td>\n",
       "      <td>0.0000;0.0000;0.0001;0.0019;0.0336;0.9643</td>\n",
       "    </tr>\n",
       "    <tr>\n",
       "      <th>2</th>\n",
       "      <td>Images/pant_length_labels/b09780a6311ce0b5c694...</td>\n",
       "      <td>pant_length_labels</td>\n",
       "      <td>0.0001;0.0001;0.0004;0.0021;0.0121;0.9851</td>\n",
       "    </tr>\n",
       "    <tr>\n",
       "      <th>3</th>\n",
       "      <td>Images/pant_length_labels/501a6f529fe8d80c7886...</td>\n",
       "      <td>pant_length_labels</td>\n",
       "      <td>0.0003;0.9997;0.0000;0.0000;0.0000;0.0000</td>\n",
       "    </tr>\n",
       "    <tr>\n",
       "      <th>4</th>\n",
       "      <td>Images/pant_length_labels/aaa48326bf7a20ad213f...</td>\n",
       "      <td>pant_length_labels</td>\n",
       "      <td>0.0002;0.0000;0.0010;0.0170;0.7092;0.2725</td>\n",
       "    </tr>\n",
       "  </tbody>\n",
       "</table>\n",
       "</div>"
      ],
      "text/plain": [
       "                                            image_id               class  \\\n",
       "0  Images/pant_length_labels/7e25106e7a0f5ac5d26a...  pant_length_labels   \n",
       "1  Images/pant_length_labels/3f96c13d864f387e5831...  pant_length_labels   \n",
       "2  Images/pant_length_labels/b09780a6311ce0b5c694...  pant_length_labels   \n",
       "3  Images/pant_length_labels/501a6f529fe8d80c7886...  pant_length_labels   \n",
       "4  Images/pant_length_labels/aaa48326bf7a20ad213f...  pant_length_labels   \n",
       "\n",
       "                                      result  \n",
       "0  0.9487;0.0325;0.0013;0.0006;0.0054;0.0115  \n",
       "1  0.0000;0.0000;0.0001;0.0019;0.0336;0.9643  \n",
       "2  0.0001;0.0001;0.0004;0.0021;0.0121;0.9851  \n",
       "3  0.0003;0.9997;0.0000;0.0000;0.0000;0.0000  \n",
       "4  0.0002;0.0000;0.0010;0.0170;0.7092;0.2725  "
      ]
     },
     "execution_count": 57,
     "metadata": {},
     "output_type": "execute_result"
    }
   ],
   "source": [
    "result = []\n",
    "\n",
    "for i, row in df_load.iterrows():\n",
    "    tmp_list = test_np[i]\n",
    "    tmp_result = ''\n",
    "    for tmp_ret in tmp_list:\n",
    "        tmp_result += '{:.4f};'.format(tmp_ret)\n",
    "        \n",
    "    result.append(tmp_result[:-1])\n",
    "\n",
    "df_load['result'] = result\n",
    "df_load.head()"
   ]
  },
  {
   "cell_type": "code",
   "execution_count": 58,
   "metadata": {
    "collapsed": true
   },
   "outputs": [],
   "source": [
    "df_load.to_csv('./result/{}_0323b.csv'.format('pant'), header=None, index=False)"
   ]
  },
  {
   "cell_type": "code",
   "execution_count": null,
   "metadata": {
    "collapsed": true
   },
   "outputs": [],
   "source": []
  }
 ],
 "metadata": {
  "kernelspec": {
   "display_name": "Python 3",
   "language": "python",
   "name": "python3"
  },
  "language_info": {
   "codemirror_mode": {
    "name": "ipython",
    "version": 3
   },
   "file_extension": ".py",
   "mimetype": "text/x-python",
   "name": "python",
   "nbconvert_exporter": "python",
   "pygments_lexer": "ipython3",
   "version": "3.6.2"
  }
 },
 "nbformat": 4,
 "nbformat_minor": 2
}
